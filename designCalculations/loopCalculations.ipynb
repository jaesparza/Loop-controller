{
 "cells": [
  {
   "cell_type": "markdown",
   "metadata": {},
   "source": [
    "# Magnetic loop antenna design calculations"
   ]
  },
  {
   "cell_type": "markdown",
   "metadata": {},
   "source": [
    "## Links\n",
    "http://www.hi-q-webs.com/LoopAntPres/Char.html\n",
    "\n",
    "https://wiki.eecs.yorku.ca/lab/emil/_media/technotes:loopant1.pdf\n",
    "\n",
    "http://www2.elo.utfsm.cl/~elo352/biblio/antenas/Lectura%2011.pdf\n",
    "\n",
    "https://www.allaboutcircuits.com/tools/wire-loop-inductance-calculator/"
   ]
  },
  {
   "cell_type": "markdown",
   "metadata": {},
   "source": [
    "## Equations and calculations\n",
    "Some are coming from the handbook and other from the links detailed below"
   ]
  },
  {
   "cell_type": "code",
   "execution_count": 2,
   "metadata": {},
   "outputs": [],
   "source": [
    "# Import required packages\n",
    "import math"
   ]
  },
  {
   "cell_type": "code",
   "execution_count": 3,
   "metadata": {},
   "outputs": [],
   "source": [
    "# Input parameters\n",
    "f = 14E6 # [Hz]\n",
    "r = 0.45 # loop radius [m]\n",
    "d_conductor = 2E-2 # diameter of the outer loop conductor, i.e. tube section [m]\n",
    "P = 100\n",
    "\n",
    "# Material - Copper - AL \n",
    "resistivity_copper = 1.67E-8\n",
    "\n",
    "# constants\n",
    "c = 3E8 # [m/s]\n",
    "N = 1 # One loop, this model has not been evaluated for multiloop antennas"
   ]
  },
  {
   "cell_type": "markdown",
   "metadata": {},
   "source": [
    "Depth of penetration: <br /> <br />\n",
    "Equations from https://chemandy.com/calculators/round-wire-ac-resistance-calculator.htm <br />\n",
    "$R_{ac} = \\cfrac{\\rho \\times l}{A_{eff}}$ <br /> <br />\n",
    "$A_{eff} = \\delta \\pi d$ Where d is the diameter of the conductor <br /><br />\n",
    "$\\delta = \\sqrt{\\bigg(\\cfrac{\\rho}{\\pi \\times f \\times \\mu}\\bigg)}$ \n"
   ]
  },
  {
   "cell_type": "markdown",
   "metadata": {},
   "source": [
    "Absolute permeability, determined by the product of relative permeability of the material ($\\mu_{r}$) and the permeability of free space($\\mu_{0}$):<br />\n",
    "$\\mu = \\mu_{0}\\mu_{r}$ <br/>\n",
    "$length = 2\\pi r$"
   ]
  },
  {
   "cell_type": "code",
   "execution_count": 4,
   "metadata": {},
   "outputs": [
    {
     "name": "stdout",
     "output_type": "stream",
     "text": [
      "Permeability: 1.25662952161e-06\n",
      "Nominal depth of penetration: 1.73826366531e-05 m\n"
     ]
    }
   ],
   "source": [
    "# Nominal depth of penetration for the conductor\n",
    "u_0 = 4 * math.pi * 1E-7 # permeability in H/m\n",
    "u_r = 0.999994\n",
    "u = u_0 * u_r\n",
    "print(\"Permeability: \" + str(u))\n",
    "skin_pd = math.sqrt(resistivity_copper / (math.pi * f * u))\n",
    "print(\"Nominal depth of penetration: \" + str(skin_pd) + \" m\")"
   ]
  },
  {
   "cell_type": "code",
   "execution_count": 5,
   "metadata": {},
   "outputs": [
    {
     "name": "stdout",
     "output_type": "stream",
     "text": [
      "Effective area is: 1.09218327219e-06 m^2\n"
     ]
    }
   ],
   "source": [
    "a_effective = skin_pd * math.pi * d_conductor\n",
    "print(\"Effective area is: \" + str(a_effective) + \" m^2\")"
   ]
  },
  {
   "cell_type": "code",
   "execution_count": 6,
   "metadata": {},
   "outputs": [
    {
     "name": "stdout",
     "output_type": "stream",
     "text": [
      "Estimated losses: 0.0432327968995 ohms\n"
     ]
    }
   ],
   "source": [
    "# AC resistance\n",
    "length = 2*math.pi*r\n",
    "Rac = (resistivity_copper * length) / a_effective\n",
    "print(\"Estimated losses: \" + str(Rac) + \" ohms\")\n",
    "Rl = Rac"
   ]
  },
  {
   "cell_type": "markdown",
   "metadata": {},
   "source": [
    "$\\lambda = c f$ <br />\n",
    "$A = \\pi r^2$ <br />\n",
    "$length = 2 \\pi r$"
   ]
  },
  {
   "cell_type": "code",
   "execution_count": 7,
   "metadata": {},
   "outputs": [
    {
     "name": "stdout",
     "output_type": "stream",
     "text": [
      "Area: 0.636172512352\n",
      "Loop length is: 2.82743338823\n"
     ]
    }
   ],
   "source": [
    "wlength = c/f\n",
    "A = math.pi * pow(r,2)\n",
    "print('Area: ' + str(A))\n",
    "LoopLength = 2 * math.pi * r\n",
    "print('Loop length is: ' + str(LoopLength))"
   ]
  },
  {
   "cell_type": "markdown",
   "metadata": {},
   "source": [
    "Inductance is determined by:<br />\n",
    "https://www.allaboutcircuits.com/tools/wire-loop-inductance-calculator/ <br />\n",
    "$D$ Loop diameter<br />\n",
    "$d$ wire diameter<br />\n",
    "$L_{loop} [Henry] \\approx \\mu_{0}\\mu_{r}\\cfrac{D}{2}\\bigg[\\ln\\bigg(\\cfrac{ 8D}{d}\\bigg)-2 \\bigg]$"
   ]
  },
  {
   "cell_type": "code",
   "execution_count": 8,
   "metadata": {},
   "outputs": [
    {
     "name": "stdout",
     "output_type": "stream",
     "text": [
      "Estimated inductance is: 2.19752687249e-06\n"
     ]
    }
   ],
   "source": [
    "# Estimated inductance L for the outer loop\n",
    "# TODO Pending how to calculate it...\n",
    "## add calcuations from link above\n",
    "## https://www.allaboutcircuits.com/tools/wire-loop-inductance-calculator/\n",
    "Lloop = u_0* u_r * r * (math.log(8*2*r/d_conductor)-2)\n",
    "print(\"Estimated inductance is: \" + str(Lloop))\n",
    "L = Lloop"
   ]
  },
  {
   "cell_type": "code",
   "execution_count": 9,
   "metadata": {},
   "outputs": [],
   "source": [
    "# Loop radiation loss, determined based on AC resistance for copper conductors\n",
    "# Keep formula\n",
    "# http://www.g3ynh.info/zdocs/comps/part_1.html\n",
    "# https://chemandy.com/calculators/round-wire-ac-resistance-calculator.htm"
   ]
  },
  {
   "cell_type": "markdown",
   "metadata": {},
   "source": [
    "$X_{L} [ohms]= 2 \\pi f L$"
   ]
  },
  {
   "cell_type": "code",
   "execution_count": 10,
   "metadata": {},
   "outputs": [
    {
     "name": "stdout",
     "output_type": "stream",
     "text": [
      "Inductive reactance is: 193.304559803\n",
      "Freq: 14000000.0\n",
      "L: 2.19752687249e-06\n"
     ]
    }
   ],
   "source": [
    "# Inductive reactance for a coil\n",
    "Xl = 2 * math.pi * f * L\n",
    "print('Inductive reactance is: ' + str(Xl))\n",
    "print('Freq: ' + str(f))\n",
    "print('L: ' + str(L))"
   ]
  },
  {
   "cell_type": "markdown",
   "metadata": {},
   "source": [
    "$ R_{r} = 3.12 \\times 10^4 \\bigg(\\cfrac{NA}{\\lambda ^ 2}\\bigg)^2 $"
   ]
  },
  {
   "cell_type": "code",
   "execution_count": 28,
   "metadata": {},
   "outputs": [
    {
     "name": "stdout",
     "output_type": "stream",
     "text": [
      "Radiation resistance is: 0.0598868566461 ohms\n"
     ]
    }
   ],
   "source": [
    "# Loop radiation resistance\n",
    "Rr = 3.12 *  1E4 * pow((N*A)/pow(wlength,2),2)\n",
    "print('Radiation resistance is: ' + str(Rr) + ' ohms')"
   ]
  },
  {
   "cell_type": "markdown",
   "metadata": {},
   "source": [
    "$\\eta = \\cfrac{R_{r}}{R_{r} + R_{ac}}\\times 100$"
   ]
  },
  {
   "cell_type": "code",
   "execution_count": 29,
   "metadata": {},
   "outputs": [],
   "source": [
    "n = (Rr / (Rr + (Rl))) * 100"
   ]
  },
  {
   "cell_type": "code",
   "execution_count": 30,
   "metadata": {},
   "outputs": [
    {
     "name": "stdout",
     "output_type": "stream",
     "text": [
      "Efficiency: 58.0751142842\n"
     ]
    }
   ],
   "source": [
    "print('Efficiency: ' + str(n))"
   ]
  },
  {
   "cell_type": "markdown",
   "metadata": {},
   "source": [
    "$Q = \\cfrac{X_{l}}{(2 \\pi r R_{ac} + R_{r})}$"
   ]
  },
  {
   "cell_type": "code",
   "execution_count": 31,
   "metadata": {},
   "outputs": [
    {
     "name": "stdout",
     "output_type": "stream",
     "text": [
      "Q of the system: 1061.3856831\n"
     ]
    }
   ],
   "source": [
    "# Q of the inductor\n",
    "Q = Xl / ((2 * math.pi * r * (Rl)) + Rr) ## double check this expression shall I add here Rr?\n",
    "print('Q of the system: ' + str(Q))"
   ]
  },
  {
   "cell_type": "markdown",
   "metadata": {},
   "source": [
    "$V_{c} = \\sqrt{P X_{l} Q}$"
   ]
  },
  {
   "cell_type": "code",
   "execution_count": 22,
   "metadata": {},
   "outputs": [
    {
     "name": "stdout",
     "output_type": "stream",
     "text": [
      "Voltage across capacitor: 4529.57715745 Volts RMS\n"
     ]
    }
   ],
   "source": [
    "Vc = math.sqrt(P*Xl*Q)\n",
    "print('Voltage across capacitor: ' + str(Vc) + ' Volts RMS')"
   ]
  },
  {
   "cell_type": "markdown",
   "metadata": {},
   "source": [
    "$I_{l} = \\sqrt{\\cfrac{P Q}{X_{l}}}$"
   ]
  },
  {
   "cell_type": "code",
   "execution_count": 16,
   "metadata": {},
   "outputs": [
    {
     "name": "stdout",
     "output_type": "stream",
     "text": [
      "Resonant circulating current in the loop: 23.4323347678\n"
     ]
    }
   ],
   "source": [
    "Il = math.sqrt(P*Q/Xl)\n",
    "print('Resonant circulating current in the loop: ' + str(Il))"
   ]
  },
  {
   "cell_type": "markdown",
   "metadata": {},
   "source": [
    "At a resonant frequency capacitive reactance equals inductive reactance: <br />\n",
    "$X_{l} = X_{c} = \\cfrac{1}{2\\pi f C } \\implies C=\\cfrac{1}{4 \\pi ^2 L f ^ 2}$<br />"
   ]
  },
  {
   "cell_type": "code",
   "execution_count": 41,
   "metadata": {},
   "outputs": [
    {
     "name": "stdout",
     "output_type": "stream",
     "text": [
      "Tunning capacitance: 58.8098399356\n"
     ]
    }
   ],
   "source": [
    "C = 1 / (4*pow(math.pi,2) * L * pow(f,2))\n",
    "print('Tunning capacitance: ' + str(C/1E-12))"
   ]
  },
  {
   "cell_type": "markdown",
   "metadata": {},
   "source": [
    "$C_{d} = H D$"
   ]
  },
  {
   "cell_type": "code",
   "execution_count": 50,
   "metadata": {},
   "outputs": [
    {
     "ename": "SyntaxError",
     "evalue": "invalid syntax (<ipython-input-50-63662e2d1d92>, line 3)",
     "output_type": "error",
     "traceback": [
      "\u001b[0;36m  File \u001b[0;32m\"<ipython-input-50-63662e2d1d92>\"\u001b[0;36m, line \u001b[0;32m3\u001b[0m\n\u001b[0;31m    Ratio =\u001b[0m\n\u001b[0m            ^\u001b[0m\n\u001b[0;31mSyntaxError\u001b[0m\u001b[0;31m:\u001b[0m invalid syntax\n"
     ]
    }
   ],
   "source": [
    "# Ratio H coming from the table...\n",
    "## To be fixed...\n",
    "Ratio = \n",
    "C_d = Ratio * r*2*100\n",
    "print('Distributed capacitance: ' + str(C_d))"
   ]
  },
  {
   "cell_type": "code",
   "execution_count": 51,
   "metadata": {},
   "outputs": [
    {
     "name": "stdout",
     "output_type": "stream",
     "text": [
      "Distributed capacitance is: 7.60636130102\n"
     ]
    }
   ],
   "source": [
    "Dist_C = 2.6902 * 2 * math.pi * r\n",
    "print('Distributed capacitance is: ' + str(Dist_C))"
   ]
  },
  {
   "cell_type": "code",
   "execution_count": null,
   "metadata": {},
   "outputs": [],
   "source": []
  }
 ],
 "metadata": {
  "kernelspec": {
   "display_name": "Python 2",
   "language": "python",
   "name": "python2"
  },
  "language_info": {
   "codemirror_mode": {
    "name": "ipython",
    "version": 2
   },
   "file_extension": ".py",
   "mimetype": "text/x-python",
   "name": "python",
   "nbconvert_exporter": "python",
   "pygments_lexer": "ipython2",
   "version": "2.7.16"
  }
 },
 "nbformat": 4,
 "nbformat_minor": 2
}
