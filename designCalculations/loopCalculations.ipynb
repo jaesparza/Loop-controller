{
 "cells": [
  {
   "cell_type": "markdown",
   "metadata": {},
   "source": [
    "# Magnetic loop antenna design calculations"
   ]
  },
  {
   "cell_type": "code",
   "execution_count": null,
   "metadata": {},
   "outputs": [],
   "source": []
  },
  {
   "cell_type": "markdown",
   "metadata": {},
   "source": [
    "http://www.hi-q-webs.com/LoopAntPres/Char.html\n",
    "\n",
    "https://wiki.eecs.yorku.ca/lab/emil/_media/technotes:loopant1.pdf\n",
    "\n",
    "http://www2.elo.utfsm.cl/~elo352/biblio/antenas/Lectura%2011.pdf\n",
    "\n",
    "https://www.allaboutcircuits.com/tools/wire-loop-inductance-calculator/"
   ]
  },
  {
   "cell_type": "markdown",
   "metadata": {},
   "source": [
    "### Trying out now the equations from the handbook"
   ]
  },
  {
   "cell_type": "markdown",
   "metadata": {},
   "source": [
    "Inductance is determined by:<br /> <br />\n",
    "$L_{loop} \\approx \\mu_{0}\\mu_{r}\\frac{D}{2}\\bigg[\\ln\\bigg(\\frac{ 8D}{d}\\bigg)-2 \\bigg]$"
   ]
  },
  {
   "cell_type": "code",
   "execution_count": 40,
   "metadata": {},
   "outputs": [],
   "source": [
    "# Import required packages\n",
    "import math"
   ]
  },
  {
   "cell_type": "code",
   "execution_count": 41,
   "metadata": {},
   "outputs": [],
   "source": [
    "# Input parameters\n",
    "f = 14E6 # [Hz]\n",
    "r = 0.45 # loop radius [m]\n",
    "d_conductor = 2E-2 # diameter of the outer loop conductor, i.e. tube section [m]\n",
    "P = 100\n",
    "\n",
    "# Material - Copper - AL \n",
    "resistivity_copper = 1.67E-8\n",
    "\n",
    "# constants\n",
    "c = 3E8 # [m/s]\n",
    "N = 1 # One loop, this model has not been evaluated for multiloop antennas"
   ]
  },
  {
   "cell_type": "markdown",
   "metadata": {},
   "source": [
    "Depth of penetration: <br /> <br />\n",
    "$R_{ac} = \\frac{\\rho \\times l}{A_{eff}}$ <br /> <br />\n",
    "$\\delta = \\sqrt{(\\frac{\\rho}{\\pi \\times f \\times \\mu})}$ <br />\n",
    "$A_{eff} = \\delta \\pi d$ Where d is the diameter of the conductor"
   ]
  },
  {
   "cell_type": "markdown",
   "metadata": {},
   "source": [
    "Absolute permeability, determined by the product of relative permeability of the material ($\\mu_{r}$) and the permeability of free space($\\mu_{0}$):<br />\n",
    "$\\mu = \\mu_{0}\\mu_{r}$ <br/>\n",
    "$length = 2\\pi r$"
   ]
  },
  {
   "cell_type": "code",
   "execution_count": 42,
   "metadata": {},
   "outputs": [
    {
     "name": "stdout",
     "output_type": "stream",
     "text": [
      "Permeability: 1.25662952161e-06\n",
      "Nominal depth of penetration: 1.73826366531e-05 m\n"
     ]
    }
   ],
   "source": [
    "# Nominal depth of penetration for the conductor\n",
    "u_0 = 4 * math.pi * 1E-7 # permeability in H/m\n",
    "u_r = 0.999994\n",
    "u = u_0 * u_r\n",
    "print(\"Permeability: \" + str(u))\n",
    "skin_pd = math.sqrt(resistivity_copper / (math.pi * f * u))\n",
    "print(\"Nominal depth of penetration: \" + str(skin_pd) + \" m\")"
   ]
  },
  {
   "cell_type": "code",
   "execution_count": 43,
   "metadata": {},
   "outputs": [
    {
     "name": "stdout",
     "output_type": "stream",
     "text": [
      "Effective area is: 1.09218327219e-06 m^2\n"
     ]
    }
   ],
   "source": [
    "a_effective = skin_pd * math.pi * d_conductor\n",
    "print(\"Effective area is: \" + str(a_effective) + \" m^2\")"
   ]
  },
  {
   "cell_type": "code",
   "execution_count": 44,
   "metadata": {},
   "outputs": [
    {
     "name": "stdout",
     "output_type": "stream",
     "text": [
      "Estimated losses: 0.0432327968995 ohms\n"
     ]
    }
   ],
   "source": [
    "# AC resistance\n",
    "length = 2*math.pi*r\n",
    "Rac = (resistivity_copper * length) / a_effective\n",
    "print(\"Estimated losses: \" + str(Rac) + \" ohms\")\n",
    "Rl = Rac"
   ]
  },
  {
   "cell_type": "code",
   "execution_count": 23,
   "metadata": {},
   "outputs": [
    {
     "name": "stdout",
     "output_type": "stream",
     "text": [
      "Area: 0.636172512352\n",
      "Loop length is: 2.82743338823\n"
     ]
    }
   ],
   "source": [
    "wlength = c/f\n",
    "A = math.pi * pow(r,2)\n",
    "print('Area: ' + str(A))\n",
    "LoopLength = 2 * math.pi * r\n",
    "print('Loop length is: ' + str(LoopLength))"
   ]
  },
  {
   "cell_type": "code",
   "execution_count": 24,
   "metadata": {},
   "outputs": [
    {
     "name": "stdout",
     "output_type": "stream",
     "text": [
      "Estimated inductance is: 2.19752687249e-06\n"
     ]
    }
   ],
   "source": [
    "# Estimated inductance L for the outer loop\n",
    "# TODO Pending how to calculate it...\n",
    "## add calcuations from link above\n",
    "## https://www.allaboutcircuits.com/tools/wire-loop-inductance-calculator/\n",
    "Lloop = u_0* u_r * r * (math.log(8*2*r/d_conductor)-2)\n",
    "print(\"Estimated inductance is: \" + str(Lloop))\n",
    "L = Lloop"
   ]
  },
  {
   "cell_type": "code",
   "execution_count": 25,
   "metadata": {},
   "outputs": [],
   "source": [
    "# Loop radiation loss, determined based on AC resistance for copper conductors\n",
    "# Keep formula\n",
    "# http://www.g3ynh.info/zdocs/comps/part_1.html\n",
    "# https://chemandy.com/calculators/round-wire-ac-resistance-calculator.htm"
   ]
  },
  {
   "cell_type": "markdown",
   "metadata": {},
   "source": [
    "$X_{L} [ohms]= 2 \\pi f L$"
   ]
  },
  {
   "cell_type": "code",
   "execution_count": 26,
   "metadata": {},
   "outputs": [
    {
     "name": "stdout",
     "output_type": "stream",
     "text": [
      "Inductive reactance is: 193.304559803\n",
      "Freq: 14000000.0\n",
      "L: 2.19752687249e-06\n"
     ]
    }
   ],
   "source": [
    "# Inductive reactance for a coil\n",
    "Xl = 2 * math.pi * f * L\n",
    "print('Inductive reactance is: ' + str(Xl))\n",
    "print('Freq: ' + str(f))\n",
    "print('L: ' + str(L))"
   ]
  },
  {
   "cell_type": "code",
   "execution_count": 27,
   "metadata": {},
   "outputs": [],
   "source": [
    "# Loop radiation resistance"
   ]
  },
  {
   "cell_type": "markdown",
   "metadata": {},
   "source": [
    "$ R_{R} = 3.12 \\times 10^4 \\bigg(\\frac{NA}{\\lambda ^ 2}\\bigg)^2 $"
   ]
  },
  {
   "cell_type": "code",
   "execution_count": 28,
   "metadata": {},
   "outputs": [
    {
     "name": "stdout",
     "output_type": "stream",
     "text": [
      "Radiation resistance is: 0.0598868566461 ohms\n"
     ]
    }
   ],
   "source": [
    "Rr = 3.12 *  1E4 * pow((N*A)/pow(wlength,2),2)\n",
    "print('Radiation resistance is: ' + str(Rr) + ' ohms')"
   ]
  },
  {
   "cell_type": "markdown",
   "metadata": {},
   "source": [
    "$\\eta = \\frac{R_{R}}{R_{R} + R_{L}}\\times 100$"
   ]
  },
  {
   "cell_type": "code",
   "execution_count": 29,
   "metadata": {},
   "outputs": [],
   "source": [
    "n = (Rr / (Rr + (Rl))) * 100"
   ]
  },
  {
   "cell_type": "code",
   "execution_count": 30,
   "metadata": {},
   "outputs": [
    {
     "name": "stdout",
     "output_type": "stream",
     "text": [
      "Efficiency: 58.0751142842\n"
     ]
    }
   ],
   "source": [
    "print('Efficiency: ' + str(n))"
   ]
  },
  {
   "cell_type": "code",
   "execution_count": 31,
   "metadata": {},
   "outputs": [
    {
     "name": "stdout",
     "output_type": "stream",
     "text": [
      "Q of the system: 1061.3856831\n"
     ]
    }
   ],
   "source": [
    "# Q of the inductor\n",
    "Q = Xl / ((2 * math.pi * r * (Rl)) + Rr) ## double check this expression shall I add here Rr?\n",
    "print('Q of the system: ' + str(Q))"
   ]
  },
  {
   "cell_type": "code",
   "execution_count": 32,
   "metadata": {},
   "outputs": [
    {
     "name": "stdout",
     "output_type": "stream",
     "text": [
      "Voltage across capacitor: 4529.57715745 Volts RMS\n"
     ]
    }
   ],
   "source": [
    "Vc = math.sqrt(P*Xl*Q)\n",
    "print('Voltage across capacitor: ' + str(Vc) + ' Volts RMS')"
   ]
  },
  {
   "cell_type": "code",
   "execution_count": 33,
   "metadata": {},
   "outputs": [
    {
     "name": "stdout",
     "output_type": "stream",
     "text": [
      "Resonant circulating current in the loop: 23.4323347678\n"
     ]
    }
   ],
   "source": [
    "Il = math.sqrt(P*Q/Xl)\n",
    "print('Resonant circulating current in the loop: ' + str(Il))"
   ]
  }
 ],
 "metadata": {
  "kernelspec": {
   "display_name": "Python 2",
   "language": "python",
   "name": "python2"
  },
  "language_info": {
   "codemirror_mode": {
    "name": "ipython",
    "version": 2
   },
   "file_extension": ".py",
   "mimetype": "text/x-python",
   "name": "python",
   "nbconvert_exporter": "python",
   "pygments_lexer": "ipython2",
   "version": "2.7.16"
  }
 },
 "nbformat": 4,
 "nbformat_minor": 2
}
